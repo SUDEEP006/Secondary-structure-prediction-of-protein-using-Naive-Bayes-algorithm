{
 "cells": [
  {
   "cell_type": "code",
   "execution_count": 1,
   "id": "f8016dc8",
   "metadata": {},
   "outputs": [],
   "source": [
    "def preprocess_data():\n",
    "    data = open(\"E:\\\\Edge_Download\\\\pr_data (2).txt\",\"r\")   \n",
    "    #Opening the text file containing sequences and secondary structures.\n",
    "    \n",
    "    p = data.read()\n",
    "    p = list(p)\n",
    "    i = 0\n",
    "    while i < len(p):\n",
    "        if((ord(p[i])>=ord('0') and ord(p[i])<=ord('9')) or p[i]==\"'\" or p[i]==\"\\n\" or p[i]==' '):\n",
    "            p.pop(i)\n",
    "            continue\n",
    "        if(p[i] == \"?\" or p[i] == \"_\"):\n",
    "            p[i] = \"U\"\n",
    "        if(p[i]=='S' and p[i+1]=='t' and p[i+2]=='r'):\n",
    "            p[i+1]='e'\n",
    "            p[i+2]='q'\n",
    "            i+=2\n",
    "        i+=1\n",
    "    p = \"\".join(p)            #Joining all the strings.\n",
    "    p = p.split(\"Seq{}=\")     #Making the string a list by splitting it in the part containing the string \"Seq{}=\".\n",
    "    p.pop(0)\n",
    "    seq = []\n",
    "    structure = []\n",
    "    for i in range(len(p)):\n",
    "        if(i%2==0):\n",
    "            seq.append(p[i])   #Making a list of sequences.\n",
    "        else:\n",
    "            structure.append(p[i])   #Making a list of the corresponding secondary structure classes.\n",
    "    return(seq, structure)\n"
   ]
  },
  {
   "cell_type": "code",
   "execution_count": 2,
   "id": "57758b2d",
   "metadata": {},
   "outputs": [],
   "source": [
    "#preprocess_data()"
   ]
  },
  {
   "cell_type": "code",
   "execution_count": 3,
   "id": "981a0bb0",
   "metadata": {},
   "outputs": [],
   "source": [
    "def update_sequence(window_size):\n",
    "    l = window_size\n",
    "    seq, structure = preprocess_data()\n",
    "    pad_len = (l-1)//2    #Length of the dummy to be added at the beginning and at the end of sequence.\n",
    "    updated_Seq = seq\n",
    "    for i in range(len(updated_Seq)):\n",
    "        updated_Seq[i] = \"X\"*pad_len + updated_Seq[i] + \"X\"*pad_len\n",
    "    return(updated_Seq)\n"
   ]
  },
  {
   "cell_type": "code",
   "execution_count": 4,
   "id": "0fedec32",
   "metadata": {},
   "outputs": [],
   "source": [
    "#update_sequence(5)"
   ]
  },
  {
   "cell_type": "code",
   "execution_count": 5,
   "id": "bf760eff",
   "metadata": {},
   "outputs": [],
   "source": [
    "def train_the_data(window_size):\n",
    "    seq, structure = preprocess_data()\n",
    "    updated_Seq = update_sequence(window_size)   #Updated Sequence after adding dummy.\n",
    "    input1 = []    \n",
    "    output1 = []\n",
    "    k = 0\n",
    "    for i in updated_Seq:\n",
    "        for j in range(len(structure[k])):\n",
    "            input1.append(i[j:(j+window_size)])   #List of Sub-Sequences of given window size.\n",
    "            output1.append(structure[k][j])       #List of corresponding secondary structures of sub-sequences.\n",
    "        k+=1\n",
    "        \n",
    "    \n",
    "    limit1 = int(len(input1)*0.7)                #The index for taking 70% of the data to make it training set.\n",
    "    tr_input_data = input1[0:limit1]             #list of training input data.\n",
    "    test_input_data = input1[limit1:]             #list of testing input data.\n",
    "    tr_output_data = output1[0:limit1]           #list of training output data.\n",
    "    test_output_data = output1[limit1:]           #list of testing output data.\n",
    "    \n",
    "        \n",
    "    return (tr_input_data, tr_output_data, test_input_data, test_output_data)"
   ]
  },
  {
   "cell_type": "code",
   "execution_count": 6,
   "id": "3c8a4638",
   "metadata": {},
   "outputs": [],
   "source": [
    "window_size = 3\n",
    "train_test_data = train_the_data(window_size)"
   ]
  },
  {
   "cell_type": "code",
   "execution_count": 7,
   "id": "48bd8955",
   "metadata": {},
   "outputs": [],
   "source": [
    "tr_input_data = train_test_data[0]\n",
    "tr_output_data = train_test_data[1]\n",
    "test_input_data =train_test_data[2]\n",
    "test_output_data =train_test_data[3]\n",
    "j = 0\n",
    "i = 0\n",
    "#print(\"Training_Input\", \" Class\", \" Testing_Input\", \"  Class\")\n",
    "while j <len(test_output_data):\n",
    "    #print(\"   \", tr_input_data[i], \"       \", tr_output_data[i], \"      \", test_input_data[j], \"       \", test_output_data[j])\n",
    "    j+=1\n",
    "    i+=1\n",
    "while i < len(tr_input_data):\n",
    "    #print(\"   \", tr_input_data[i], \"       \", tr_output_data[i])\n",
    "    i+=1"
   ]
  },
  {
   "cell_type": "code",
   "execution_count": 8,
   "id": "e78324b0",
   "metadata": {},
   "outputs": [],
   "source": [
    "def class_separation(tr_input_data,tr_output_data):\n",
    "    dssp_sec_list = ['G','H','I','B','E','T','S','U']\n",
    "    sec_structure_dict = {}\n",
    "    for i in dssp_sec_list:\n",
    "        sec_structure_dict[i] = []\n",
    "    #print(sec_structure_dict)\n",
    "    for i in range(len(tr_output_data)):\n",
    "        sec_structure_dict[tr_output_data[i]].append(tr_input_data[i])\n",
    "    #print(sec_structure_dict)\n",
    "    #print(dssp_sec_list)\n",
    "    #print(sec_structure_dict['I'])\n",
    "    return (sec_structure_dict, dssp_sec_list)"
   ]
  },
  {
   "cell_type": "code",
   "execution_count": 9,
   "id": "384da4d7",
   "metadata": {
    "scrolled": true
   },
   "outputs": [],
   "source": [
    "sec_structure_dict, dssp_sec_list = class_separation(tr_input_data, tr_output_data)"
   ]
  },
  {
   "cell_type": "code",
   "execution_count": 10,
   "id": "26e657ee",
   "metadata": {},
   "outputs": [],
   "source": [
    "def prob_class1(sec_structure_dict, dssp_sec_list):\n",
    "    array_amino = \"ARNDCQEGHILKMFPSTWYVX\"\n",
    "    aa_count = {}\n",
    "    for i in dssp_sec_list:\n",
    "        aa_count[i] = {}\n",
    "        for j in array_amino:\n",
    "            aa_count[i][j] = [0 for i in range(window_size)]\n",
    "    class_p = {}\n",
    "    P_tables = {}\n",
    "    for i in dssp_sec_list:\n",
    "        P_tables[i] = {}\n",
    "        class_p[i] = len(sec_structure_dict[i])/len(tr_input_data)\n",
    "   \n",
    "    for i in dssp_sec_list:\n",
    "        for j in array_amino:\n",
    "            P_tables[i][j] = [0 for i in range(window_size)]\n",
    "   \n",
    "    for i in dssp_sec_list:\n",
    "        for j in sec_structure_dict[i]:\n",
    "            for k in range(window_size):\n",
    "                aa_count[i][j[k]][k]+=1\n",
    "            \n",
    "\n",
    "    for i in dssp_sec_list:\n",
    "        for j in array_amino:\n",
    "            for k in range(window_size):\n",
    "                if(len(sec_structure_dict[i]) > 0):\n",
    "                    P_tables[i][j][k] = aa_count[i][j][k]/len(sec_structure_dict[i])\n",
    "                else:\n",
    "                    P_tables[i][j][k] = 0\n",
    "    #print(P_tables)\n",
    "    #print(class_p)\n",
    "    return P_tables, class_p"
   ]
  },
  {
   "cell_type": "code",
   "execution_count": 11,
   "id": "904f7bd1",
   "metadata": {},
   "outputs": [],
   "source": [
    "P_tables, class_p = prob_class1(sec_structure_dict, dssp_sec_list)"
   ]
  },
  {
   "cell_type": "code",
   "execution_count": 12,
   "id": "36a1b507",
   "metadata": {
    "scrolled": false
   },
   "outputs": [],
   "source": [
    "testclass1 = [[0 for i in range(len(dssp_sec_list))] for j in range(len(test_input_data))]\n",
    "for i in range(len(test_input_data)):\n",
    "    for j in range(len(dssp_sec_list)):\n",
    "        sum = 1\n",
    "        for k in range(len(test_input_data[i])):\n",
    "            sum*=P_tables[dssp_sec_list[j]][test_input_data[i][k]][k]\n",
    "        sum*=class_p[dssp_sec_list[j]]\n",
    "        testclass1[i][j] = sum\n",
    "#print(dssp_sec_list)\n",
    "#print(sum)\n",
    "#print(testclass1)"
   ]
  },
  {
   "cell_type": "code",
   "execution_count": 13,
   "id": "4979c25e",
   "metadata": {
    "scrolled": true
   },
   "outputs": [],
   "source": [
    "count = 0\n",
    "#print(\"Testing_Input\", \" DSSP_Class\", \" Predicted_ss_Class\")\n",
    "for i in range(len(test_input_data)):\n",
    "    #print(test_input_data[i], \"            \", test_output_data[i], \"           \", dssp_sec_list[testclass1[i].index(max(testclass1[i]))])\n",
    "    if(test_output_data[i]==dssp_sec_list[testclass1[i].index(max(testclass1[i]))]):\n",
    "        count+=1\n",
    "#print(\"The Percentage Accuracy is: \", (count/len(test_input_data))*100)\n"
   ]
  }
 ],
 "metadata": {
  "kernelspec": {
   "display_name": "Python 3 (ipykernel)",
   "language": "python",
   "name": "python3"
  },
  "language_info": {
   "codemirror_mode": {
    "name": "ipython",
    "version": 3
   },
   "file_extension": ".py",
   "mimetype": "text/x-python",
   "name": "python",
   "nbconvert_exporter": "python",
   "pygments_lexer": "ipython3",
   "version": "3.9.12"
  }
 },
 "nbformat": 4,
 "nbformat_minor": 5
}
